{
  "nbformat": 4,
  "nbformat_minor": 0,
  "metadata": {
    "colab": {
      "name": "КузнецовK3121.ipynb",
      "provenance": [],
      "collapsed_sections": [],
      "authorship_tag": "ABX9TyOYr7N0QqFOHM9uJFgntscp",
      "include_colab_link": true
    },
    "kernelspec": {
      "name": "python3",
      "display_name": "Python 3"
    },
    "language_info": {
      "name": "python"
    }
  },
  "cells": [
    {
      "cell_type": "markdown",
      "metadata": {
        "id": "view-in-github",
        "colab_type": "text"
      },
      "source": [
        "<a href=\"https://colab.research.google.com/github/crawlic-stud/Kuznetsov_K3121/blob/master/%D0%9A%D1%83%D0%B7%D0%BD%D0%B5%D1%86%D0%BE%D0%B2K3121.ipynb\" target=\"_parent\"><img src=\"https://colab.research.google.com/assets/colab-badge.svg\" alt=\"Open In Colab\"/></a>"
      ]
    },
    {
      "cell_type": "markdown",
      "metadata": {
        "id": "UFYXmzUNA11G"
      },
      "source": [
        "**Numpy**"
      ]
    },
    {
      "cell_type": "code",
      "metadata": {
        "id": "mRGzNJGiAyoI"
      },
      "source": [
        "import numpy as np\n"
      ],
      "execution_count": null,
      "outputs": []
    },
    {
      "cell_type": "code",
      "metadata": {
        "id": "ylEaOVp1CFqC"
      },
      "source": [
        "matrix1 = np.array([[1, 2, 3], \n",
        "                    [4, 5, 6], \n",
        "                    [7, 8, 9]])\n",
        "matrix2 = np.array([[-9, -8, -7],\n",
        "                    [-6, -5, -4],\n",
        "                    [-3, -2, -1]])"
      ],
      "execution_count": null,
      "outputs": []
    },
    {
      "cell_type": "code",
      "metadata": {
        "colab": {
          "base_uri": "https://localhost:8080/"
        },
        "id": "_OjEhxvnCfn1",
        "outputId": "75d1472f-727c-42db-d0bc-2ae2dbc1210f"
      },
      "source": [
        "print(f'Матрица 1: \\n {matrix1}', f'\\nМатрица 2: \\n {matrix2}')"
      ],
      "execution_count": null,
      "outputs": [
        {
          "output_type": "stream",
          "text": [
            "Матрица 1: \n",
            " [[1 2 3]\n",
            " [4 5 6]\n",
            " [7 8 9]] \n",
            "Матрица 2: \n",
            " [[-9 -8 -7]\n",
            " [-6 -5 -4]\n",
            " [-3 -2 -1]]\n"
          ],
          "name": "stdout"
        }
      ]
    },
    {
      "cell_type": "code",
      "metadata": {
        "colab": {
          "base_uri": "https://localhost:8080/"
        },
        "id": "t2qL3-0fDS17",
        "outputId": "b788c4c4-1894-4577-895d-89402a8e109f"
      },
      "source": [
        "sum_matrix = matrix1 * matrix2\n",
        "print(sum_matrix)"
      ],
      "execution_count": null,
      "outputs": [
        {
          "output_type": "stream",
          "text": [
            "[[ -9 -16 -21]\n",
            " [-24 -25 -24]\n",
            " [-21 -16  -9]]\n"
          ],
          "name": "stdout"
        }
      ]
    },
    {
      "cell_type": "code",
      "metadata": {
        "colab": {
          "base_uri": "https://localhost:8080/"
        },
        "id": "MxEJt7X_Dx9b",
        "outputId": "f2b4a33b-fc31-4025-9468-6d3ee83d6282"
      },
      "source": [
        "sin_matrix1 = np.sin(matrix1)\n",
        "print(sin_matrix1)"
      ],
      "execution_count": null,
      "outputs": [
        {
          "output_type": "stream",
          "text": [
            "[[ 0.84147098  0.90929743  0.14112001]\n",
            " [-0.7568025  -0.95892427 -0.2794155 ]\n",
            " [ 0.6569866   0.98935825  0.41211849]]\n"
          ],
          "name": "stdout"
        }
      ]
    },
    {
      "cell_type": "code",
      "metadata": {
        "colab": {
          "base_uri": "https://localhost:8080/"
        },
        "id": "gc-2oAfwEr8a",
        "outputId": "a5500dbf-8a83-43f7-926c-6afc02034d14"
      },
      "source": [
        "exp_matrix2 = np.exp(matrix2)\n",
        "print(exp_matrix2)"
      ],
      "execution_count": null,
      "outputs": [
        {
          "output_type": "stream",
          "text": [
            "[[1.23409804e-04 3.35462628e-04 9.11881966e-04]\n",
            " [2.47875218e-03 6.73794700e-03 1.83156389e-02]\n",
            " [4.97870684e-02 1.35335283e-01 3.67879441e-01]]\n"
          ],
          "name": "stdout"
        }
      ]
    },
    {
      "cell_type": "code",
      "metadata": {
        "colab": {
          "base_uri": "https://localhost:8080/"
        },
        "id": "wgdNNMs9E0fE",
        "outputId": "ef2c23d6-e76c-4928-c48a-1a4a8d4e0654"
      },
      "source": [
        "diff_matrix = matrix1 - matrix2\n",
        "print(diff_matrix)"
      ],
      "execution_count": null,
      "outputs": [
        {
          "output_type": "stream",
          "text": [
            "[[10 10 10]\n",
            " [10 10 10]\n",
            " [10 10 10]]\n"
          ],
          "name": "stdout"
        }
      ]
    },
    {
      "cell_type": "markdown",
      "metadata": {
        "id": "EnSdogKGE_ew"
      },
      "source": [
        "**Pandas**"
      ]
    },
    {
      "cell_type": "code",
      "metadata": {
        "id": "O-9OKGzCFCfJ"
      },
      "source": [
        "import pandas as pd"
      ],
      "execution_count": null,
      "outputs": []
    },
    {
      "cell_type": "code",
      "metadata": {
        "colab": {
          "base_uri": "https://localhost:8080/"
        },
        "id": "UfUwgk20FfQJ",
        "outputId": "7444f129-aa04-4d9c-b45f-4b790570d253"
      },
      "source": [
        "student_name = np.array(['Василий', 'Петр', 'Виктор', 'Кирилл', 'Анна', 'Дмитрий', 'Александр'])\n",
        "course = np.array([1, 2, 1, 1, 2, 1, 1])\n",
        "points = np.array([45, 65, 12, 43, 55, 80, 88])\n",
        "group = np.array(['O3123', 'O3113', 'O3133', 'O3143', 'O3133', 'O3133','O3223'])\n",
        "df = pd.DataFrame({'Имя студента': student_name,'Группа': group, 'Курс': course, 'Баллы': points})\n",
        "print(f'Список баллов студентов по предмету Программирование:\\n\\n {df}')"
      ],
      "execution_count": null,
      "outputs": [
        {
          "output_type": "stream",
          "text": [
            "Список баллов студентов по предмету Программирование:\n",
            "\n",
            "   Имя студента Группа  Курс  Баллы\n",
            "0      Василий  O3123     1     45\n",
            "1         Петр  O3113     2     65\n",
            "2       Виктор  O3133     1     12\n",
            "3       Кирилл  O3143     1     43\n",
            "4         Анна  O3133     2     55\n",
            "5      Дмитрий  O3133     1     80\n",
            "6    Александр  O3223     1     88\n"
          ],
          "name": "stdout"
        }
      ]
    },
    {
      "cell_type": "code",
      "metadata": {
        "id": "maaoxNVYJjdL"
      },
      "source": [
        "df.describe()"
      ],
      "execution_count": null,
      "outputs": []
    },
    {
      "cell_type": "code",
      "metadata": {
        "colab": {
          "base_uri": "https://localhost:8080/"
        },
        "id": "Vnn9c_xKJvkc",
        "outputId": "a78162c7-abe0-4af0-b58a-040f2a3bceb3"
      },
      "source": [
        "name_and_group = df[['Имя студента', 'Группа']]\n",
        "print(name_and_group)"
      ],
      "execution_count": null,
      "outputs": [
        {
          "output_type": "stream",
          "text": [
            "  Имя студента Группа\n",
            "0      Василий  O3123\n",
            "1         Петр  O3113\n",
            "2       Виктор  O3133\n",
            "3       Кирилл  O3143\n",
            "4         Анна  O3133\n",
            "5      Дмитрий  O3133\n",
            "6    Александр  O3223\n"
          ],
          "name": "stdout"
        }
      ]
    },
    {
      "cell_type": "code",
      "metadata": {
        "colab": {
          "base_uri": "https://localhost:8080/"
        },
        "id": "B_yRM6hSOjlG",
        "outputId": "f6a5084b-59ee-4567-9847-2847562359ed"
      },
      "source": [
        "first_3_rows = df[0:3]\n",
        "print(first_3_rows)"
      ],
      "execution_count": null,
      "outputs": [
        {
          "output_type": "stream",
          "text": [
            "  Имя студента Группа  Курс  Баллы\n",
            "0      Василий  O3123     1     45\n",
            "1         Петр  O3113     2     65\n",
            "2       Виктор  O3133     1     12\n"
          ],
          "name": "stdout"
        }
      ]
    },
    {
      "cell_type": "code",
      "metadata": {
        "colab": {
          "base_uri": "https://localhost:8080/"
        },
        "id": "AnT4XStfPNiR",
        "outputId": "b68a7cb2-6afe-4024-b385-a34d8cce1cab"
      },
      "source": [
        "subset1 = df.loc[0:4, ['Имя студента', 'Баллы']]\n",
        "print(subset1)"
      ],
      "execution_count": null,
      "outputs": [
        {
          "output_type": "stream",
          "text": [
            "  Имя студента  Баллы\n",
            "0      Василий     45\n",
            "1         Петр     65\n",
            "2       Виктор     12\n",
            "3       Кирилл     43\n",
            "4         Анна     55\n"
          ],
          "name": "stdout"
        }
      ]
    },
    {
      "cell_type": "code",
      "metadata": {
        "colab": {
          "base_uri": "https://localhost:8080/"
        },
        "id": "ACXDiEgJQMRW",
        "outputId": "d64d4475-c3af-4a4f-97dc-50b8abb413a0"
      },
      "source": [
        "subset2 = df.iloc[2:4, 0:3]\n",
        "print(subset2)"
      ],
      "execution_count": null,
      "outputs": [
        {
          "output_type": "stream",
          "text": [
            "  Имя студента Группа  Курс\n",
            "2       Виктор  O3133     1\n",
            "3       Кирилл  O3143     1\n"
          ],
          "name": "stdout"
        }
      ]
    },
    {
      "cell_type": "code",
      "metadata": {
        "colab": {
          "base_uri": "https://localhost:8080/"
        },
        "id": "dSDZ2K8aQpik",
        "outputId": "47c3a22a-cd7f-4ca0-8688-5ee3021ab38d"
      },
      "source": [
        "df['Сложность программы'] = pd.Categorical.from_codes(codes = df['Курс'], categories = ['', 'Средняя', 'Повышенная'])\n",
        "print(f'Список баллов студентов по предмету Программирование:\\n\\n {df}')"
      ],
      "execution_count": null,
      "outputs": [
        {
          "output_type": "stream",
          "text": [
            "Список баллов студентов по предмету Программирование:\n",
            "\n",
            "   Имя студента Группа  Курс  Баллы Сложность программы\n",
            "0      Василий  O3123     1     45             Средняя\n",
            "1         Петр  O3113     2     65          Повышенная\n",
            "2       Виктор  O3133     1     12             Средняя\n",
            "3       Кирилл  O3143     1     43             Средняя\n",
            "4         Анна  O3133     2     55          Повышенная\n",
            "5      Дмитрий  O3133     1     80             Средняя\n",
            "6    Александр  O3223     1     88             Средняя\n"
          ],
          "name": "stdout"
        }
      ]
    },
    {
      "cell_type": "code",
      "metadata": {
        "colab": {
          "base_uri": "https://localhost:8080/"
        },
        "id": "MgCwj5NeR_rV",
        "outputId": "e35ea965-f3a4-4301-f33c-ab7dd8cbf3fb"
      },
      "source": [
        "group_means = df.groupby(df['Сложность программы']).mean()\n",
        "print(f'Средние баллы по Курсу: \\n {group_means[1:]}')"
      ],
      "execution_count": null,
      "outputs": [
        {
          "output_type": "stream",
          "text": [
            "Средние баллы по Курсу: \n",
            "                      Курс  Баллы\n",
            "Сложность программы             \n",
            "Средняя               1.0   53.6\n",
            "Повышенная            2.0   60.0\n"
          ],
          "name": "stdout"
        }
      ]
    },
    {
      "cell_type": "markdown",
      "metadata": {
        "id": "mjFdHYrWSpq0"
      },
      "source": [
        "**Импорт в Pandas**"
      ]
    },
    {
      "cell_type": "code",
      "metadata": {
        "id": "MiSakLQwSs9I",
        "colab": {
          "base_uri": "https://localhost:8080/",
          "height": 374
        },
        "outputId": "66bf7980-399f-4cdf-b96e-6dcc8202629c"
      },
      "source": [
        "!pip install wooldridge\n",
        "import wooldridge as wd\n",
        "mroz = wd.dataWoo('mroz')\n",
        "mroz.head()"
      ],
      "execution_count": null,
      "outputs": [
        {
          "output_type": "stream",
          "text": [
            "Collecting wooldridge\n",
            "\u001b[?25l  Downloading https://files.pythonhosted.org/packages/fd/4a/280286dce69ca8df50dc70316d24679f7a35ecc2d06b54b71c97c367afe2/wooldridge-0.4.2-py3-none-any.whl (5.1MB)\n",
            "\u001b[K     |████████████████████████████████| 5.1MB 9.1MB/s \n",
            "\u001b[?25hRequirement already satisfied: pandas in /usr/local/lib/python3.7/dist-packages (from wooldridge) (1.1.5)\n",
            "Requirement already satisfied: pytz>=2017.2 in /usr/local/lib/python3.7/dist-packages (from pandas->wooldridge) (2018.9)\n",
            "Requirement already satisfied: python-dateutil>=2.7.3 in /usr/local/lib/python3.7/dist-packages (from pandas->wooldridge) (2.8.1)\n",
            "Requirement already satisfied: numpy>=1.15.4 in /usr/local/lib/python3.7/dist-packages (from pandas->wooldridge) (1.19.5)\n",
            "Requirement already satisfied: six>=1.5 in /usr/local/lib/python3.7/dist-packages (from python-dateutil>=2.7.3->pandas->wooldridge) (1.15.0)\n",
            "Installing collected packages: wooldridge\n",
            "Successfully installed wooldridge-0.4.2\n"
          ],
          "name": "stdout"
        },
        {
          "output_type": "execute_result",
          "data": {
            "text/html": [
              "<div>\n",
              "<style scoped>\n",
              "    .dataframe tbody tr th:only-of-type {\n",
              "        vertical-align: middle;\n",
              "    }\n",
              "\n",
              "    .dataframe tbody tr th {\n",
              "        vertical-align: top;\n",
              "    }\n",
              "\n",
              "    .dataframe thead th {\n",
              "        text-align: right;\n",
              "    }\n",
              "</style>\n",
              "<table border=\"1\" class=\"dataframe\">\n",
              "  <thead>\n",
              "    <tr style=\"text-align: right;\">\n",
              "      <th></th>\n",
              "      <th>inlf</th>\n",
              "      <th>hours</th>\n",
              "      <th>kidslt6</th>\n",
              "      <th>kidsge6</th>\n",
              "      <th>age</th>\n",
              "      <th>educ</th>\n",
              "      <th>wage</th>\n",
              "      <th>repwage</th>\n",
              "      <th>hushrs</th>\n",
              "      <th>husage</th>\n",
              "      <th>huseduc</th>\n",
              "      <th>huswage</th>\n",
              "      <th>faminc</th>\n",
              "      <th>mtr</th>\n",
              "      <th>motheduc</th>\n",
              "      <th>fatheduc</th>\n",
              "      <th>unem</th>\n",
              "      <th>city</th>\n",
              "      <th>exper</th>\n",
              "      <th>nwifeinc</th>\n",
              "      <th>lwage</th>\n",
              "      <th>expersq</th>\n",
              "    </tr>\n",
              "  </thead>\n",
              "  <tbody>\n",
              "    <tr>\n",
              "      <th>0</th>\n",
              "      <td>1</td>\n",
              "      <td>1610</td>\n",
              "      <td>1</td>\n",
              "      <td>0</td>\n",
              "      <td>32</td>\n",
              "      <td>12</td>\n",
              "      <td>3.3540</td>\n",
              "      <td>2.65</td>\n",
              "      <td>2708</td>\n",
              "      <td>34</td>\n",
              "      <td>12</td>\n",
              "      <td>4.0288</td>\n",
              "      <td>16310.0</td>\n",
              "      <td>0.7215</td>\n",
              "      <td>12</td>\n",
              "      <td>7</td>\n",
              "      <td>5.0</td>\n",
              "      <td>0</td>\n",
              "      <td>14</td>\n",
              "      <td>10.910060</td>\n",
              "      <td>1.210154</td>\n",
              "      <td>196</td>\n",
              "    </tr>\n",
              "    <tr>\n",
              "      <th>1</th>\n",
              "      <td>1</td>\n",
              "      <td>1656</td>\n",
              "      <td>0</td>\n",
              "      <td>2</td>\n",
              "      <td>30</td>\n",
              "      <td>12</td>\n",
              "      <td>1.3889</td>\n",
              "      <td>2.65</td>\n",
              "      <td>2310</td>\n",
              "      <td>30</td>\n",
              "      <td>9</td>\n",
              "      <td>8.4416</td>\n",
              "      <td>21800.0</td>\n",
              "      <td>0.6615</td>\n",
              "      <td>7</td>\n",
              "      <td>7</td>\n",
              "      <td>11.0</td>\n",
              "      <td>1</td>\n",
              "      <td>5</td>\n",
              "      <td>19.499981</td>\n",
              "      <td>0.328512</td>\n",
              "      <td>25</td>\n",
              "    </tr>\n",
              "    <tr>\n",
              "      <th>2</th>\n",
              "      <td>1</td>\n",
              "      <td>1980</td>\n",
              "      <td>1</td>\n",
              "      <td>3</td>\n",
              "      <td>35</td>\n",
              "      <td>12</td>\n",
              "      <td>4.5455</td>\n",
              "      <td>4.04</td>\n",
              "      <td>3072</td>\n",
              "      <td>40</td>\n",
              "      <td>12</td>\n",
              "      <td>3.5807</td>\n",
              "      <td>21040.0</td>\n",
              "      <td>0.6915</td>\n",
              "      <td>12</td>\n",
              "      <td>7</td>\n",
              "      <td>5.0</td>\n",
              "      <td>0</td>\n",
              "      <td>15</td>\n",
              "      <td>12.039910</td>\n",
              "      <td>1.514138</td>\n",
              "      <td>225</td>\n",
              "    </tr>\n",
              "    <tr>\n",
              "      <th>3</th>\n",
              "      <td>1</td>\n",
              "      <td>456</td>\n",
              "      <td>0</td>\n",
              "      <td>3</td>\n",
              "      <td>34</td>\n",
              "      <td>12</td>\n",
              "      <td>1.0965</td>\n",
              "      <td>3.25</td>\n",
              "      <td>1920</td>\n",
              "      <td>53</td>\n",
              "      <td>10</td>\n",
              "      <td>3.5417</td>\n",
              "      <td>7300.0</td>\n",
              "      <td>0.7815</td>\n",
              "      <td>7</td>\n",
              "      <td>7</td>\n",
              "      <td>5.0</td>\n",
              "      <td>0</td>\n",
              "      <td>6</td>\n",
              "      <td>6.799996</td>\n",
              "      <td>0.092123</td>\n",
              "      <td>36</td>\n",
              "    </tr>\n",
              "    <tr>\n",
              "      <th>4</th>\n",
              "      <td>1</td>\n",
              "      <td>1568</td>\n",
              "      <td>1</td>\n",
              "      <td>2</td>\n",
              "      <td>31</td>\n",
              "      <td>14</td>\n",
              "      <td>4.5918</td>\n",
              "      <td>3.60</td>\n",
              "      <td>2000</td>\n",
              "      <td>32</td>\n",
              "      <td>12</td>\n",
              "      <td>10.0000</td>\n",
              "      <td>27300.0</td>\n",
              "      <td>0.6215</td>\n",
              "      <td>12</td>\n",
              "      <td>14</td>\n",
              "      <td>9.5</td>\n",
              "      <td>1</td>\n",
              "      <td>7</td>\n",
              "      <td>20.100058</td>\n",
              "      <td>1.524272</td>\n",
              "      <td>49</td>\n",
              "    </tr>\n",
              "  </tbody>\n",
              "</table>\n",
              "</div>"
            ],
            "text/plain": [
              "   inlf  hours  kidslt6  kidsge6  ...  exper   nwifeinc     lwage  expersq\n",
              "0     1   1610        1        0  ...     14  10.910060  1.210154      196\n",
              "1     1   1656        0        2  ...      5  19.499981  0.328512       25\n",
              "2     1   1980        1        3  ...     15  12.039910  1.514138      225\n",
              "3     1    456        0        3  ...      6   6.799996  0.092123       36\n",
              "4     1   1568        1        2  ...      7  20.100058  1.524272       49\n",
              "\n",
              "[5 rows x 22 columns]"
            ]
          },
          "metadata": {
            "tags": []
          },
          "execution_count": 38
        }
      ]
    },
    {
      "cell_type": "code",
      "metadata": {
        "colab": {
          "resources": {
            "http://localhost:8080/nbextensions/google.colab/files.js": {
              "data": "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",
              "ok": true,
              "headers": [
                [
                  "content-type",
                  "application/javascript"
                ]
              ],
              "status": 200,
              "status_text": ""
            }
          },
          "base_uri": "https://localhost:8080/",
          "height": 956
        },
        "id": "oOu-Q33NTqUC",
        "outputId": "e169da97-289c-44e3-b25e-735ca5ce5abf"
      },
      "source": [
        "!pip install google.colab\n",
        "from google.colab import files \n",
        "import io\n",
        "uploaded = files.upload()"
      ],
      "execution_count": 41,
      "outputs": [
        {
          "output_type": "stream",
          "text": [
            "Processing /root/.cache/pip/wheels/38/0d/59/701e300a337b2a2e07b27fe74dbfff0bc56ac58f711566ee67/google_colab-1.0.0-py2.py3-none-any.whl\n",
            "Requirement already satisfied: ipykernel~=4.6.0 in /usr/local/lib/python3.7/dist-packages (from google.colab) (4.6.1)\n",
            "Requirement already satisfied: portpicker~=1.2.0 in /usr/local/lib/python3.7/dist-packages (from google.colab) (1.2.0)\n",
            "Requirement already satisfied: pandas~=0.24.0 in /usr/local/lib/python3.7/dist-packages (from google.colab) (0.24.2)\n",
            "Requirement already satisfied: ipython~=5.5.0 in /usr/local/lib/python3.7/dist-packages (from google.colab) (5.5.0)\n",
            "Requirement already satisfied: six~=1.12.0 in /usr/local/lib/python3.7/dist-packages (from google.colab) (1.12.0)\n",
            "Requirement already satisfied: requests~=2.21.0 in /usr/local/lib/python3.7/dist-packages (from google.colab) (2.21.0)\n",
            "Requirement already satisfied: notebook~=5.2.0 in /usr/local/lib/python3.7/dist-packages (from google.colab) (5.2.2)\n",
            "Requirement already satisfied: google-auth~=1.4.0 in /usr/local/lib/python3.7/dist-packages (from google.colab) (1.4.2)\n",
            "Requirement already satisfied: tornado~=4.5.0 in /usr/local/lib/python3.7/dist-packages (from google.colab) (4.5.3)\n",
            "Requirement already satisfied: jupyter-client in /usr/local/lib/python3.7/dist-packages (from ipykernel~=4.6.0->google.colab) (5.3.5)\n",
            "Requirement already satisfied: traitlets>=4.1.0 in /usr/local/lib/python3.7/dist-packages (from ipykernel~=4.6.0->google.colab) (5.0.5)\n",
            "Requirement already satisfied: numpy>=1.12.0 in /usr/local/lib/python3.7/dist-packages (from pandas~=0.24.0->google.colab) (1.19.5)\n",
            "Requirement already satisfied: pytz>=2011k in /usr/local/lib/python3.7/dist-packages (from pandas~=0.24.0->google.colab) (2018.9)\n",
            "Requirement already satisfied: python-dateutil>=2.5.0 in /usr/local/lib/python3.7/dist-packages (from pandas~=0.24.0->google.colab) (2.8.1)\n",
            "Requirement already satisfied: pickleshare in /usr/local/lib/python3.7/dist-packages (from ipython~=5.5.0->google.colab) (0.7.5)\n",
            "Requirement already satisfied: pygments in /usr/local/lib/python3.7/dist-packages (from ipython~=5.5.0->google.colab) (2.6.1)\n",
            "Requirement already satisfied: simplegeneric>0.8 in /usr/local/lib/python3.7/dist-packages (from ipython~=5.5.0->google.colab) (0.8.1)\n",
            "Requirement already satisfied: prompt-toolkit<2.0.0,>=1.0.4 in /usr/local/lib/python3.7/dist-packages (from ipython~=5.5.0->google.colab) (1.0.18)\n",
            "Requirement already satisfied: pexpect; sys_platform != \"win32\" in /usr/local/lib/python3.7/dist-packages (from ipython~=5.5.0->google.colab) (4.8.0)\n",
            "Requirement already satisfied: decorator in /usr/local/lib/python3.7/dist-packages (from ipython~=5.5.0->google.colab) (4.4.2)\n",
            "Requirement already satisfied: setuptools>=18.5 in /usr/local/lib/python3.7/dist-packages (from ipython~=5.5.0->google.colab) (56.1.0)\n",
            "Requirement already satisfied: chardet<3.1.0,>=3.0.2 in /usr/local/lib/python3.7/dist-packages (from requests~=2.21.0->google.colab) (3.0.4)\n",
            "Requirement already satisfied: idna<2.9,>=2.5 in /usr/local/lib/python3.7/dist-packages (from requests~=2.21.0->google.colab) (2.8)\n",
            "Requirement already satisfied: certifi>=2017.4.17 in /usr/local/lib/python3.7/dist-packages (from requests~=2.21.0->google.colab) (2020.12.5)\n",
            "Requirement already satisfied: urllib3<1.25,>=1.21.1 in /usr/local/lib/python3.7/dist-packages (from requests~=2.21.0->google.colab) (1.24.3)\n",
            "Requirement already satisfied: nbformat in /usr/local/lib/python3.7/dist-packages (from notebook~=5.2.0->google.colab) (5.1.3)\n",
            "Requirement already satisfied: terminado>=0.3.3; sys_platform != \"win32\" in /usr/local/lib/python3.7/dist-packages (from notebook~=5.2.0->google.colab) (0.9.4)\n",
            "Requirement already satisfied: jinja2 in /usr/local/lib/python3.7/dist-packages (from notebook~=5.2.0->google.colab) (2.11.3)\n",
            "Requirement already satisfied: nbconvert in /usr/local/lib/python3.7/dist-packages (from notebook~=5.2.0->google.colab) (5.6.1)\n",
            "Requirement already satisfied: ipython-genutils in /usr/local/lib/python3.7/dist-packages (from notebook~=5.2.0->google.colab) (0.2.0)\n",
            "Requirement already satisfied: jupyter-core in /usr/local/lib/python3.7/dist-packages (from notebook~=5.2.0->google.colab) (4.7.1)\n",
            "Requirement already satisfied: cachetools>=2.0.0 in /usr/local/lib/python3.7/dist-packages (from google-auth~=1.4.0->google.colab) (4.2.1)\n",
            "Requirement already satisfied: rsa>=3.1.4 in /usr/local/lib/python3.7/dist-packages (from google-auth~=1.4.0->google.colab) (4.7.2)\n",
            "Requirement already satisfied: pyasn1-modules>=0.2.1 in /usr/local/lib/python3.7/dist-packages (from google-auth~=1.4.0->google.colab) (0.2.8)\n",
            "Requirement already satisfied: pyzmq>=13 in /usr/local/lib/python3.7/dist-packages (from jupyter-client->ipykernel~=4.6.0->google.colab) (22.0.3)\n",
            "Requirement already satisfied: wcwidth in /usr/local/lib/python3.7/dist-packages (from prompt-toolkit<2.0.0,>=1.0.4->ipython~=5.5.0->google.colab) (0.2.5)\n",
            "Requirement already satisfied: ptyprocess>=0.5 in /usr/local/lib/python3.7/dist-packages (from pexpect; sys_platform != \"win32\"->ipython~=5.5.0->google.colab) (0.7.0)\n",
            "Requirement already satisfied: jsonschema!=2.5.0,>=2.4 in /usr/local/lib/python3.7/dist-packages (from nbformat->notebook~=5.2.0->google.colab) (2.6.0)\n",
            "Requirement already satisfied: MarkupSafe>=0.23 in /usr/local/lib/python3.7/dist-packages (from jinja2->notebook~=5.2.0->google.colab) (1.1.1)\n",
            "Requirement already satisfied: pandocfilters>=1.4.1 in /usr/local/lib/python3.7/dist-packages (from nbconvert->notebook~=5.2.0->google.colab) (1.4.3)\n",
            "Requirement already satisfied: defusedxml in /usr/local/lib/python3.7/dist-packages (from nbconvert->notebook~=5.2.0->google.colab) (0.7.1)\n",
            "Requirement already satisfied: mistune<2,>=0.8.1 in /usr/local/lib/python3.7/dist-packages (from nbconvert->notebook~=5.2.0->google.colab) (0.8.4)\n",
            "Requirement already satisfied: testpath in /usr/local/lib/python3.7/dist-packages (from nbconvert->notebook~=5.2.0->google.colab) (0.4.4)\n",
            "Requirement already satisfied: bleach in /usr/local/lib/python3.7/dist-packages (from nbconvert->notebook~=5.2.0->google.colab) (3.3.0)\n",
            "Requirement already satisfied: entrypoints>=0.2.2 in /usr/local/lib/python3.7/dist-packages (from nbconvert->notebook~=5.2.0->google.colab) (0.3)\n",
            "Requirement already satisfied: pyasn1>=0.1.3 in /usr/local/lib/python3.7/dist-packages (from rsa>=3.1.4->google-auth~=1.4.0->google.colab) (0.4.8)\n",
            "Requirement already satisfied: packaging in /usr/local/lib/python3.7/dist-packages (from bleach->nbconvert->notebook~=5.2.0->google.colab) (20.9)\n",
            "Requirement already satisfied: webencodings in /usr/local/lib/python3.7/dist-packages (from bleach->nbconvert->notebook~=5.2.0->google.colab) (0.5.1)\n",
            "Requirement already satisfied: pyparsing>=2.0.2 in /usr/local/lib/python3.7/dist-packages (from packaging->bleach->nbconvert->notebook~=5.2.0->google.colab) (2.4.7)\n",
            "Installing collected packages: google.colab\n",
            "Successfully installed google.colab\n"
          ],
          "name": "stdout"
        },
        {
          "output_type": "display_data",
          "data": {
            "text/html": [
              "\n",
              "     <input type=\"file\" id=\"files-cde91269-dcbf-4686-8625-5acd6704cfce\" name=\"files[]\" multiple disabled\n",
              "        style=\"border:none\" />\n",
              "     <output id=\"result-cde91269-dcbf-4686-8625-5acd6704cfce\">\n",
              "      Upload widget is only available when the cell has been executed in the\n",
              "      current browser session. Please rerun this cell to enable.\n",
              "      </output>\n",
              "      <script src=\"/nbextensions/google.colab/files.js\"></script> "
            ],
            "text/plain": [
              "<IPython.core.display.HTML object>"
            ]
          },
          "metadata": {
            "tags": []
          }
        },
        {
          "output_type": "stream",
          "text": [
            "Saving fund_managers.xlsx to fund_managers.xlsx\n"
          ],
          "name": "stdout"
        }
      ]
    },
    {
      "cell_type": "code",
      "metadata": {
        "colab": {
          "base_uri": "https://localhost:8080/",
          "height": 297
        },
        "id": "o18g9FyZUN99",
        "outputId": "7be81ecd-a830-4d81-a51a-d4f6006f2f02"
      },
      "source": [
        "managers_xls = io.BytesIO(uploaded['fund_managers.xlsx'])\n",
        "data = pd.read_excel('/content/fund_managers.xlsx')\n",
        "data.describe()"
      ],
      "execution_count": 42,
      "outputs": [
        {
          "output_type": "execute_result",
          "data": {
            "text/html": [
              "<div>\n",
              "<style scoped>\n",
              "    .dataframe tbody tr th:only-of-type {\n",
              "        vertical-align: middle;\n",
              "    }\n",
              "\n",
              "    .dataframe tbody tr th {\n",
              "        vertical-align: top;\n",
              "    }\n",
              "\n",
              "    .dataframe thead th {\n",
              "        text-align: right;\n",
              "    }\n",
              "</style>\n",
              "<table border=\"1\" class=\"dataframe\">\n",
              "  <thead>\n",
              "    <tr style=\"text-align: right;\">\n",
              "      <th></th>\n",
              "      <th>Year</th>\n",
              "      <th>Risky Ricky</th>\n",
              "      <th>Safe Steve</th>\n",
              "      <th>Ricky Ranks</th>\n",
              "      <th>Steve Ranks</th>\n",
              "    </tr>\n",
              "  </thead>\n",
              "  <tbody>\n",
              "    <tr>\n",
              "      <th>count</th>\n",
              "      <td>13.00000</td>\n",
              "      <td>13.000000</td>\n",
              "      <td>13.000000</td>\n",
              "      <td>13.00000</td>\n",
              "      <td>13.000000</td>\n",
              "    </tr>\n",
              "    <tr>\n",
              "      <th>mean</th>\n",
              "      <td>2011.00000</td>\n",
              "      <td>5.692308</td>\n",
              "      <td>4.692308</td>\n",
              "      <td>7.00000</td>\n",
              "      <td>6.846154</td>\n",
              "    </tr>\n",
              "    <tr>\n",
              "      <th>std</th>\n",
              "      <td>3.89444</td>\n",
              "      <td>20.360847</td>\n",
              "      <td>6.612924</td>\n",
              "      <td>3.89444</td>\n",
              "      <td>3.782551</td>\n",
              "    </tr>\n",
              "    <tr>\n",
              "      <th>min</th>\n",
              "      <td>2005.00000</td>\n",
              "      <td>-23.000000</td>\n",
              "      <td>-8.000000</td>\n",
              "      <td>1.00000</td>\n",
              "      <td>1.000000</td>\n",
              "    </tr>\n",
              "    <tr>\n",
              "      <th>25%</th>\n",
              "      <td>2008.00000</td>\n",
              "      <td>-7.000000</td>\n",
              "      <td>2.000000</td>\n",
              "      <td>4.00000</td>\n",
              "      <td>4.000000</td>\n",
              "    </tr>\n",
              "    <tr>\n",
              "      <th>50%</th>\n",
              "      <td>2011.00000</td>\n",
              "      <td>4.000000</td>\n",
              "      <td>4.000000</td>\n",
              "      <td>7.00000</td>\n",
              "      <td>7.000000</td>\n",
              "    </tr>\n",
              "    <tr>\n",
              "      <th>75%</th>\n",
              "      <td>2014.00000</td>\n",
              "      <td>14.000000</td>\n",
              "      <td>7.000000</td>\n",
              "      <td>10.00000</td>\n",
              "      <td>10.000000</td>\n",
              "    </tr>\n",
              "    <tr>\n",
              "      <th>max</th>\n",
              "      <td>2017.00000</td>\n",
              "      <td>56.000000</td>\n",
              "      <td>19.000000</td>\n",
              "      <td>13.00000</td>\n",
              "      <td>13.000000</td>\n",
              "    </tr>\n",
              "  </tbody>\n",
              "</table>\n",
              "</div>"
            ],
            "text/plain": [
              "             Year  Risky Ricky  Safe Steve  Ricky Ranks  Steve Ranks\n",
              "count    13.00000    13.000000   13.000000     13.00000    13.000000\n",
              "mean   2011.00000     5.692308    4.692308      7.00000     6.846154\n",
              "std       3.89444    20.360847    6.612924      3.89444     3.782551\n",
              "min    2005.00000   -23.000000   -8.000000      1.00000     1.000000\n",
              "25%    2008.00000    -7.000000    2.000000      4.00000     4.000000\n",
              "50%    2011.00000     4.000000    4.000000      7.00000     7.000000\n",
              "75%    2014.00000    14.000000    7.000000     10.00000    10.000000\n",
              "max    2017.00000    56.000000   19.000000     13.00000    13.000000"
            ]
          },
          "metadata": {
            "tags": []
          },
          "execution_count": 42
        }
      ]
    },
    {
      "cell_type": "code",
      "metadata": {
        "colab": {
          "base_uri": "https://localhost:8080/",
          "height": 204
        },
        "id": "rMi5IXSkUlQE",
        "outputId": "ccba1463-f20d-41a2-d167-30768e5d9dbc"
      },
      "source": [
        "data.corr()"
      ],
      "execution_count": 43,
      "outputs": [
        {
          "output_type": "execute_result",
          "data": {
            "text/html": [
              "<div>\n",
              "<style scoped>\n",
              "    .dataframe tbody tr th:only-of-type {\n",
              "        vertical-align: middle;\n",
              "    }\n",
              "\n",
              "    .dataframe tbody tr th {\n",
              "        vertical-align: top;\n",
              "    }\n",
              "\n",
              "    .dataframe thead th {\n",
              "        text-align: right;\n",
              "    }\n",
              "</style>\n",
              "<table border=\"1\" class=\"dataframe\">\n",
              "  <thead>\n",
              "    <tr style=\"text-align: right;\">\n",
              "      <th></th>\n",
              "      <th>Year</th>\n",
              "      <th>Risky Ricky</th>\n",
              "      <th>Safe Steve</th>\n",
              "      <th>Ricky Ranks</th>\n",
              "      <th>Steve Ranks</th>\n",
              "    </tr>\n",
              "  </thead>\n",
              "  <tbody>\n",
              "    <tr>\n",
              "      <th>Year</th>\n",
              "      <td>1.000000</td>\n",
              "      <td>0.142928</td>\n",
              "      <td>0.385059</td>\n",
              "      <td>0.021978</td>\n",
              "      <td>-0.197996</td>\n",
              "    </tr>\n",
              "    <tr>\n",
              "      <th>Risky Ricky</th>\n",
              "      <td>0.142928</td>\n",
              "      <td>1.000000</td>\n",
              "      <td>0.870048</td>\n",
              "      <td>-0.934285</td>\n",
              "      <td>-0.766741</td>\n",
              "    </tr>\n",
              "    <tr>\n",
              "      <th>Safe Steve</th>\n",
              "      <td>0.385059</td>\n",
              "      <td>0.870048</td>\n",
              "      <td>1.000000</td>\n",
              "      <td>-0.796004</td>\n",
              "      <td>-0.944866</td>\n",
              "    </tr>\n",
              "    <tr>\n",
              "      <th>Ricky Ranks</th>\n",
              "      <td>0.021978</td>\n",
              "      <td>-0.934285</td>\n",
              "      <td>-0.796004</td>\n",
              "      <td>1.000000</td>\n",
              "      <td>0.763700</td>\n",
              "    </tr>\n",
              "    <tr>\n",
              "      <th>Steve Ranks</th>\n",
              "      <td>-0.197996</td>\n",
              "      <td>-0.766741</td>\n",
              "      <td>-0.944866</td>\n",
              "      <td>0.763700</td>\n",
              "      <td>1.000000</td>\n",
              "    </tr>\n",
              "  </tbody>\n",
              "</table>\n",
              "</div>"
            ],
            "text/plain": [
              "                 Year  Risky Ricky  Safe Steve  Ricky Ranks  Steve Ranks\n",
              "Year         1.000000     0.142928    0.385059     0.021978    -0.197996\n",
              "Risky Ricky  0.142928     1.000000    0.870048    -0.934285    -0.766741\n",
              "Safe Steve   0.385059     0.870048    1.000000    -0.796004    -0.944866\n",
              "Ricky Ranks  0.021978    -0.934285   -0.796004     1.000000     0.763700\n",
              "Steve Ranks -0.197996    -0.766741   -0.944866     0.763700     1.000000"
            ]
          },
          "metadata": {
            "tags": []
          },
          "execution_count": 43
        }
      ]
    },
    {
      "cell_type": "code",
      "metadata": {
        "colab": {
          "base_uri": "https://localhost:8080/",
          "height": 255
        },
        "id": "v_gUymZlUnyT",
        "outputId": "c33137df-46b3-439f-d5be-f6e8fef61811"
      },
      "source": [
        "import pandas_datareader.data as pdr\n",
        "import datetime\n",
        "df = pdr.DataReader('TUD', 'oecd') #TUD = Trade Union Density\n",
        "df[['Germany', 'United States']]"
      ],
      "execution_count": 59,
      "outputs": [
        {
          "output_type": "execute_result",
          "data": {
            "text/html": [
              "<div>\n",
              "<style scoped>\n",
              "    .dataframe tbody tr th:only-of-type {\n",
              "        vertical-align: middle;\n",
              "    }\n",
              "\n",
              "    .dataframe tbody tr th {\n",
              "        vertical-align: top;\n",
              "    }\n",
              "\n",
              "    .dataframe thead tr th {\n",
              "        text-align: left;\n",
              "    }\n",
              "\n",
              "    .dataframe thead tr:last-of-type th {\n",
              "        text-align: right;\n",
              "    }\n",
              "</style>\n",
              "<table border=\"1\" class=\"dataframe\">\n",
              "  <thead>\n",
              "    <tr>\n",
              "      <th>Country</th>\n",
              "      <th colspan=\"6\" halign=\"left\">Germany</th>\n",
              "      <th colspan=\"6\" halign=\"left\">United States</th>\n",
              "    </tr>\n",
              "    <tr>\n",
              "      <th>Source</th>\n",
              "      <th colspan=\"3\" halign=\"left\">Administrative data</th>\n",
              "      <th colspan=\"3\" halign=\"left\">Survey data</th>\n",
              "      <th colspan=\"3\" halign=\"left\">Administrative data</th>\n",
              "      <th colspan=\"3\" halign=\"left\">Survey data</th>\n",
              "    </tr>\n",
              "    <tr>\n",
              "      <th>Series</th>\n",
              "      <th>Employees</th>\n",
              "      <th>Union members</th>\n",
              "      <th>Trade union  density</th>\n",
              "      <th>Employees</th>\n",
              "      <th>Union members</th>\n",
              "      <th>Trade union  density</th>\n",
              "      <th>Employees</th>\n",
              "      <th>Union members</th>\n",
              "      <th>Trade union  density</th>\n",
              "      <th>Employees</th>\n",
              "      <th>Union members</th>\n",
              "      <th>Trade union  density</th>\n",
              "    </tr>\n",
              "    <tr>\n",
              "      <th>Year</th>\n",
              "      <th></th>\n",
              "      <th></th>\n",
              "      <th></th>\n",
              "      <th></th>\n",
              "      <th></th>\n",
              "      <th></th>\n",
              "      <th></th>\n",
              "      <th></th>\n",
              "      <th></th>\n",
              "      <th></th>\n",
              "      <th></th>\n",
              "      <th></th>\n",
              "    </tr>\n",
              "  </thead>\n",
              "  <tbody>\n",
              "    <tr>\n",
              "      <th>2017-01-01</th>\n",
              "      <td>23269.0</td>\n",
              "      <td>7892.0</td>\n",
              "      <td>33.9</td>\n",
              "      <td>NaN</td>\n",
              "      <td>NaN</td>\n",
              "      <td>NaN</td>\n",
              "      <td>NaN</td>\n",
              "      <td>NaN</td>\n",
              "      <td>NaN</td>\n",
              "      <td>99846.0</td>\n",
              "      <td>16975.0</td>\n",
              "      <td>17.0</td>\n",
              "    </tr>\n",
              "    <tr>\n",
              "      <th>2018-01-01</th>\n",
              "      <td>23822.0</td>\n",
              "      <td>7888.0</td>\n",
              "      <td>33.1</td>\n",
              "      <td>NaN</td>\n",
              "      <td>NaN</td>\n",
              "      <td>NaN</td>\n",
              "      <td>NaN</td>\n",
              "      <td>NaN</td>\n",
              "      <td>NaN</td>\n",
              "      <td>104642.0</td>\n",
              "      <td>17002.0</td>\n",
              "      <td>16.2</td>\n",
              "    </tr>\n",
              "  </tbody>\n",
              "</table>\n",
              "</div>"
            ],
            "text/plain": [
              "Country                Germany                ... United States                     \n",
              "Source     Administrative data                ...   Survey data                     \n",
              "Series               Employees Union members  ... Union members Trade union  density\n",
              "Year                                          ...                                   \n",
              "2017-01-01             23269.0        7892.0  ...       16975.0                 17.0\n",
              "2018-01-01             23822.0        7888.0  ...       17002.0                 16.2\n",
              "\n",
              "[2 rows x 12 columns]"
            ]
          },
          "metadata": {
            "tags": []
          },
          "execution_count": 59
        }
      ]
    },
    {
      "cell_type": "markdown",
      "metadata": {
        "id": "5eQcYmcDXI-d"
      },
      "source": [
        "**MatPlotLib**"
      ]
    },
    {
      "cell_type": "code",
      "metadata": {
        "colab": {
          "base_uri": "https://localhost:8080/",
          "height": 265
        },
        "id": "uM3SDL7QXNWY",
        "outputId": "508f90bc-e86b-42a9-c797-a9faa72befd7"
      },
      "source": [
        "import matplotlib.pyplot as plt\n",
        "\n",
        "x = [0, 1, 1, 2, 3, 5, 8, 13, 21]\n",
        "y = [i**2 for i in x]\n",
        "plt.plot(x, y, color='#ff1111', marker = 's', linestyle = ':')\n",
        "plt.savefig('graph1.png')"
      ],
      "execution_count": 74,
      "outputs": [
        {
          "output_type": "display_data",
          "data": {
            "image/png": "[encoded data removed]",
            "text/plain": [
              "<Figure size 432x288 with 1 Axes>"
            ]
          },
          "metadata": {
            "tags": [],
            "needs_background": "light"
          }
        }
      ]
    },
    {
      "cell_type": "code",
      "metadata": {
        "colab": {
          "base_uri": "https://localhost:8080/",
          "height": 265
        },
        "id": "Oxy0IHQOX6Ij",
        "outputId": "fda4450b-9f34-44b7-a5e2-e76d36b580f1"
      },
      "source": [
        "x1 = np.linspace(-1, 12, num = 50)\n",
        "y1 = 2.7**x1\n",
        "plt.plot(x1, y1, color='#ff0000', marker = '', linestyle = '-')\n",
        "plt.savefig('graph2.png')"
      ],
      "execution_count": 73,
      "outputs": [
        {
          "output_type": "display_data",
          "data": {
            "image/png": "[encoded data removed]",
            "text/plain": [
              "<Figure size 432x288 with 1 Axes>"
            ]
          },
          "metadata": {
            "tags": [],
            "needs_background": "light"
          }
        }
      ]
    },
    {
      "cell_type": "code",
      "metadata": {
        "id": "Y4LXd1j_X0E1"
      },
      "source": [
        "import scipy.stats as stats"
      ],
      "execution_count": 67,
      "outputs": []
    },
    {
      "cell_type": "code",
      "metadata": {
        "colab": {
          "base_uri": "https://localhost:8080/",
          "height": 295
        },
        "id": "ZJFpBn0cYTkZ",
        "outputId": "05ec3152-ad59-4957-bbaa-46f69642b1a8"
      },
      "source": [
        "x2 = np.linspace(-3, 3, num = 100)\n",
        "y2 = stats.norm.pdf(x2)\n",
        "y3 = stats.norm.pdf(x2, 5, 1)\n",
        "y4 = stats.norm.pdf(x2, 1, 0.2)\n",
        "plt.plot(x2, y2, color='red', marker = '', linestyle = '-', label = '$\\mu = 0$, $\\sigma = 1$')\n",
        "plt.plot(x2, y3, color='green', marker = '', linestyle = ':', label = '$\\mu = 5$, $\\sigma = 1$')\n",
        "plt.plot(x2, y4, color='blue', marker = '', linestyle = 'dashed', label = '$\\mu = 1$, $\\sigma = 0.2$')\n",
        "plt.title('Графики нормального распределения')\n",
        "plt.xlabel('x')\n",
        "plt.ylabel('$\\phi (x)$')\n",
        "plt.legend()\n",
        "plt.show()\n"
      ],
      "execution_count": 72,
      "outputs": [
        {
          "output_type": "display_data",
          "data": {
            "image/png": "[encoded data removed]",
            "text/plain": [
              "<Figure size 432x288 with 1 Axes>"
            ]
          },
          "metadata": {
            "tags": [],
            "needs_background": "light"
          }
        }
      ]
    }
  ]
}